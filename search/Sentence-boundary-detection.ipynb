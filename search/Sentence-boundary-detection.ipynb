{
 "cells": [
  {
   "cell_type": "markdown",
   "metadata": {},
   "source": [
    "## Жолковский Евгений"
   ]
  },
  {
   "cell_type": "code",
   "execution_count": 154,
   "metadata": {
    "collapsed": true
   },
   "outputs": [],
   "source": [
    "import pandas as pd\n",
    "import numpy as np\n",
    "import json\n",
    "import io\n",
    "from sklearn.model_selection import train_test_split\n",
    "from sklearn.linear_model import LogisticRegression\n",
    "from sklearn.metrics import auc\n",
    "from sklearn.metrics import f1_score\n",
    "from alphabet_detector import AlphabetDetector\n",
    "from sklearn.naive_bayes import MultinomialNB\n",
    "from mlxtend.preprocessing import TransactionEncoder\n",
    "import xgboost"
   ]
  },
  {
   "cell_type": "markdown",
   "metadata": {},
   "source": [
    "https://www.kaggle.com/c/sentence-boundary-detection-itmo-2018"
   ]
  },
  {
   "cell_type": "code",
   "execution_count": 4,
   "metadata": {
    "collapsed": true
   },
   "outputs": [],
   "source": [
    "train_data = []\n",
    "with io.open('train_data.json','r',encoding='utf8') as f:\n",
    "    for line in f.readlines():\n",
    "        d = json.loads(line)\n",
    "        train_data.append(d)"
   ]
  },
  {
   "cell_type": "code",
   "execution_count": 5,
   "metadata": {
    "collapsed": true
   },
   "outputs": [],
   "source": [
    "test_data = []\n",
    "with io.open('test_data.json','r',encoding='utf8') as f:\n",
    "    for line in f.readlines():\n",
    "        d = json.loads(line)\n",
    "        test_data.append(d)"
   ]
  },
  {
   "cell_type": "code",
   "execution_count": 6,
   "metadata": {
    "collapsed": true
   },
   "outputs": [],
   "source": [
    "pos_ends = ['!', '?', '…', '.', \"»\", '\"']\n",
    "\n",
    "def convert_train(train_data):\n",
    "    train1_data = []\n",
    "    for tr in train_data:\n",
    "        Marks = []\n",
    "        D = {}\n",
    "        positions = []\n",
    "        par = ''\n",
    "        ## generate true labels\n",
    "        for s in tr['Sentences']:\n",
    "\n",
    "            par += s + ' '\n",
    "            pos = len(par)-2 \n",
    "            D1 = {}  \n",
    "            positions.append(len(par)-2)\n",
    "            D1['Pos'] =  len(par)-2\n",
    "            D1['Mark'] = par[pos]\n",
    "            D1['End'] = True\n",
    "            Marks.append(D1)\n",
    "\n",
    "        \n",
    "\n",
    "        # generate false labels\n",
    "        for j, sym in enumerate(par):\n",
    "            if (sym in pos_ends) and (not j in positions):\n",
    "                D1 = {}  \n",
    "                D1['Pos'] =  j\n",
    "                D1['Mark'] = sym\n",
    "                D1['End'] = False\n",
    "                Marks.append(D1)\n",
    "                \n",
    "        D['Marks'] = Marks\n",
    "        D['Paragraph'] = par[:-1]\n",
    "        \n",
    "        train1_data.append(D)\n",
    "    return train1_data"
   ]
  },
  {
   "cell_type": "code",
   "execution_count": 219,
   "metadata": {
    "collapsed": true
   },
   "outputs": [],
   "source": [
    "def encode(st):\n",
    "    ad = AlphabetDetector()\n",
    "    enc = []\n",
    "    for j, c in enumerate(st):\n",
    "\n",
    "        if c.isalpha():     \n",
    "            enc.append('a' + str(j))\n",
    "            \n",
    "            if ad.is_cyrillic(c):\n",
    "                enc.append('c' + str(j))\n",
    "\n",
    "            if c.isupper():\n",
    "                enc.append('A' + str(j))\n",
    "\n",
    "\n",
    "        elif c.isnumeric():\n",
    "            enc.append('n' + str(j) )\n",
    "            \n",
    "        else:\n",
    "            enc.append(c + str(j))\n",
    "            enc.append('n' + str(j))\n",
    "\n",
    "\n",
    "    return enc"
   ]
  },
  {
   "cell_type": "code",
   "execution_count": 220,
   "metadata": {
    "collapsed": true
   },
   "outputs": [],
   "source": [
    "train_data_conv = convert_train(train_data)"
   ]
  },
  {
   "cell_type": "code",
   "execution_count": 221,
   "metadata": {
    "collapsed": true
   },
   "outputs": [],
   "source": [
    "train, test = train_test_split(train_data_conv, test_size=0.33, random_state=41)"
   ]
  },
  {
   "cell_type": "code",
   "execution_count": 222,
   "metadata": {
    "collapsed": true
   },
   "outputs": [],
   "source": [
    "k = 5"
   ]
  },
  {
   "cell_type": "code",
   "execution_count": 223,
   "metadata": {
    "collapsed": true
   },
   "outputs": [],
   "source": [
    "X_train = []\n",
    "y_train = []\n",
    "for tr in train:\n",
    "    par = tr['Paragraph']\n",
    "    for cand in tr['Marks']:\n",
    "        y_train.append(int(cand['End']))\n",
    "        code = encode(par[cand['Pos']-k: cand['Pos']+k])\n",
    "        X_train.append(code)\n",
    "y_train = np.array(y_train)"
   ]
  },
  {
   "cell_type": "code",
   "execution_count": 224,
   "metadata": {
    "collapsed": true
   },
   "outputs": [],
   "source": [
    "X_test = []\n",
    "y_test = []\n",
    "y_test_mask = []\n",
    "for tr in test:\n",
    "    par = tr['Paragraph']\n",
    "    for cand in tr['Marks']:\n",
    "        code = encode(par[cand['Pos']-k: cand['Pos']+k])\n",
    "        X_test.append(code)\n",
    "        \n",
    "        if cand['Pos'] == len(par)-1:\n",
    "            y_test_mask.append(1)\n",
    "        else:\n",
    "            y_test_mask.append(0)\n",
    "      \n",
    "        y_test.append(int(cand['End'])) \n",
    "y_test = np.array(y_test)"
   ]
  },
  {
   "cell_type": "code",
   "execution_count": 225,
   "metadata": {
    "collapsed": true
   },
   "outputs": [],
   "source": [
    "X_subm = []\n",
    "y_subm_mask = []\n",
    "for tr in test_data:\n",
    "    par = tr['Paragraph']\n",
    "    for cand in tr['Marks']:\n",
    "        code = encode(par[cand['Pos']-k: cand['Pos']+k])\n",
    "        \n",
    "        if cand['Pos'] == len(par)-1:\n",
    "            y_subm_mask.append(1)\n",
    "        else:\n",
    "            y_subm_mask.append(0)\n",
    "        \n",
    "        X_subm.append(code) "
   ]
  },
  {
   "cell_type": "code",
   "execution_count": 226,
   "metadata": {
    "collapsed": true
   },
   "outputs": [],
   "source": [
    "OH = TransactionEncoder()\n",
    "OH.fit(X_train + X_subm + X_test) # это никак не влияет, но позволяет нормально закодировать\n",
    "\n",
    "x_train = OH.transform(X_train).astype(int)\n",
    "x_test = OH.transform(X_test).astype(int)\n",
    "x_subm = OH.transform(X_subm).astype(int)\n",
    "\n"
   ]
  },
  {
   "cell_type": "markdown",
   "metadata": {},
   "source": [
    "## logistic regression"
   ]
  },
  {
   "cell_type": "code",
   "execution_count": 227,
   "metadata": {
    "collapsed": true
   },
   "outputs": [],
   "source": [
    "clf_lr = LogisticRegression(C=10000, penalty='l1')"
   ]
  },
  {
   "cell_type": "code",
   "execution_count": 228,
   "metadata": {},
   "outputs": [
    {
     "name": "stdout",
     "output_type": "stream",
     "text": [
      "0.9865691489361702\n",
      "0.9866023936170213\n"
     ]
    }
   ],
   "source": [
    "clf_lr.fit(x_train, y_train)\n",
    "\n",
    "y_pred = clf_lr.predict(x_test)\n",
    "print ((y_pred == y_test).mean())\n",
    "\n",
    "for j, y_ in enumerate(y_test_mask):\n",
    "    y_pred[j] |= y_\n",
    "    \n",
    "print ((y_pred == y_test).mean())"
   ]
  },
  {
   "cell_type": "markdown",
   "metadata": {},
   "source": [
    "## xgboost"
   ]
  },
  {
   "cell_type": "code",
   "execution_count": 229,
   "metadata": {
    "collapsed": true
   },
   "outputs": [],
   "source": [
    "clf_xgb = xgboost.XGBClassifier(n_estimators=1500, max_depth=6, learning_rate=0.01, n_jobs=-1, silent=False)"
   ]
  },
  {
   "cell_type": "code",
   "execution_count": 230,
   "metadata": {},
   "outputs": [
    {
     "name": "stdout",
     "output_type": "stream",
     "text": [
      "0.9902593085106383\n",
      "0.9902593085106383\n"
     ]
    },
    {
     "name": "stderr",
     "output_type": "stream",
     "text": [
      "/home/e.zholkovskiy/anaconda3/lib/python3.6/site-packages/sklearn/preprocessing/label.py:151: DeprecationWarning: The truth value of an empty array is ambiguous. Returning False, but in future this will result in an error. Use `array.size > 0` to check that an array is not empty.\n",
      "  if diff:\n"
     ]
    }
   ],
   "source": [
    "clf_xgb.fit(x_train, y_train)\n",
    "\n",
    "y_pred = clf_xgb.predict(x_test)\n",
    "print ((y_pred == y_test).mean())\n",
    "\n",
    "for j, y_ in enumerate(y_test_mask):\n",
    "    y_pred[j] |= y_\n",
    "    \n",
    "print ((y_pred == y_test).mean())"
   ]
  },
  {
   "cell_type": "markdown",
   "metadata": {},
   "source": [
    "## submission"
   ]
  },
  {
   "cell_type": "code",
   "execution_count": 232,
   "metadata": {},
   "outputs": [
    {
     "name": "stderr",
     "output_type": "stream",
     "text": [
      "/home/e.zholkovskiy/anaconda3/lib/python3.6/site-packages/sklearn/preprocessing/label.py:151: DeprecationWarning: The truth value of an empty array is ambiguous. Returning False, but in future this will result in an error. Use `array.size > 0` to check that an array is not empty.\n",
      "  if diff:\n"
     ]
    }
   ],
   "source": [
    "y_subm = clf_xgb.predict(x_subm)\n",
    "\n",
    "for j, y_ in enumerate(y_subm_mask):\n",
    "    y_subm[j] |= y_"
   ]
  },
  {
   "cell_type": "code",
   "execution_count": 233,
   "metadata": {
    "collapsed": true
   },
   "outputs": [],
   "source": [
    "df = pd.DataFrame(y_subm, columns=['Mark'], index=range(1,26477))\n",
    "df.index.name = 'Id'\n",
    "df.to_csv(\"sampleSubmission.csv\")"
   ]
  },
  {
   "cell_type": "code",
   "execution_count": null,
   "metadata": {
    "collapsed": true
   },
   "outputs": [],
   "source": []
  }
 ],
 "metadata": {
  "kernelspec": {
   "display_name": "Python [conda env:anaconda3]",
   "language": "python",
   "name": "conda-env-anaconda3-py"
  },
  "language_info": {
   "codemirror_mode": {
    "name": "ipython",
    "version": 3
   },
   "file_extension": ".py",
   "mimetype": "text/x-python",
   "name": "python",
   "nbconvert_exporter": "python",
   "pygments_lexer": "ipython3",
   "version": "3.6.3"
  }
 },
 "nbformat": 4,
 "nbformat_minor": 2
}
