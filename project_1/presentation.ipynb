{
 "cells": [
  {
   "cell_type": "code",
   "execution_count": 5,
   "metadata": {
    "code_folding": [
     13
    ],
    "collapsed": true,
    "slideshow": {
     "slide_type": "skip"
    }
   },
   "outputs": [],
   "source": [
    "import pandas as pd\n",
    "import numpy as np\n",
    "import matplotlib.pyplot as plt\n",
    "\n",
    "%matplotlib inline\n",
    "\n",
    "plt.style.use('ggplot')\n",
    "plt.rcParams['figure.figsize'] = (12,5)\n",
    "\n",
    "# Для кириллицы на графиках\n",
    "font = {'family': 'Arial'}\n",
    "plt.rc('font', **font)\n",
    "\n",
    "try:\n",
    "    from ipywidgets import interact, IntSlider, fixed, FloatSlider\n",
    "except ImportError:\n",
    "    print u'Так надо'"
   ]
  },
  {
   "cell_type": "markdown",
   "metadata": {
    "slideshow": {
     "slide_type": "slide"
    }
   },
   "source": [
    "<center><img src=\"images/header.png\"></center>\n",
    "\n",
    "<center>\n",
    "<h2>Предсказание оценки пользователя фильму по тексту отзыва</h2>\n",
    "<hr>\n",
    "<h4>\n",
    "Докшина Елизавета<br/>\n",
    "Жолковский Евгений<br/>\n",
    "\n",
    "</h4>\n",
    "</center>"
   ]
  },
  {
   "cell_type": "markdown",
   "metadata": {
    "slideshow": {
     "slide_type": "slide"
    }
   },
   "source": [
    "# Постановка задачи\n",
    "<br/>\n",
    "<center><img src=\"images/review.png\"></center>"
   ]
  },
  {
   "cell_type": "markdown",
   "metadata": {
    "slideshow": {
     "slide_type": "slide"
    }
   },
   "source": [
    "# Получение и предобработка данных\n",
    "\n",
    "- Парсинг - BeautifulSoup\n",
    "- Стемминг -  Porter Stemmer\n",
    "\n",
    "\n",
    "- 400 тысяч отзывов\n",
    "- 1500 фильмов\n",
    "- более 1 Гб данных"
   ]
  },
  {
   "cell_type": "markdown",
   "metadata": {
    "slideshow": {
     "slide_type": "slide"
    }
   },
   "source": [
    "# Распределение числа оценок\n",
    "<br/>\n",
    "<center><img src=\"images/distr1.png\", width=40%></center>\n"
   ]
  },
  {
   "cell_type": "markdown",
   "metadata": {
    "slideshow": {
     "slide_type": "slide"
    }
   },
   "source": [
    "# Выбор критерия качества\n",
    "<br/>\n",
    "<center><img src=\"images/star_ratings.png\", width=30%></center>"
   ]
  },
  {
   "cell_type": "markdown",
   "metadata": {
    "slideshow": {
     "slide_type": "slide"
    }
   },
   "source": [
    "Mean Absolute Error:\n",
    "$$ MAE = \\frac{1}{n} \\sum _{i=1} ^n \\left| x_{pred}^{(i)} - x_{true}^{(i)} \\right|$$"
   ]
  },
  {
   "cell_type": "markdown",
   "metadata": {
    "slideshow": {
     "slide_type": "slide"
    }
   },
   "source": [
    "# Предобработка текста\n",
    "\n",
    "- Предобработка текста и токенизация: `CountVectorizer`\n",
    "- tf-idf трансформация: `TfidfTransformer`"
   ]
  },
  {
   "cell_type": "markdown",
   "metadata": {
    "slideshow": {
     "slide_type": "slide"
    }
   },
   "source": [
    "# Baseline\n",
    "Константное предсказание: `y_pred = 8`\n",
    "\n",
    "`MAE = 2.37`\n"
   ]
  },
  {
   "cell_type": "markdown",
   "metadata": {
    "slideshow": {
     "slide_type": "slide"
    }
   },
   "source": [
    "# Рассматриваемые модели\n",
    "- Линейная регрессия\n",
    "- Multinomial Naive Bayes\n",
    "- Логистическая регрессия"
   ]
  },
  {
   "cell_type": "markdown",
   "metadata": {
    "slideshow": {
     "slide_type": "slide"
    }
   },
   "source": [
    "# Выбор гиперпараметров для моделей\n",
    "- Длина n-граммы\n",
    "- Минимальное и максимальное значения document frequency\n",
    "- Использование idf\n",
    "- для NaiveBayes:\n",
    "    - сглаживание\n",
    "- для логистической регрессии\n",
    "    - веса классов\n",
    "    - penalty  "
   ]
  },
  {
   "cell_type": "markdown",
   "metadata": {
    "slideshow": {
     "slide_type": "skip"
    }
   },
   "source": [
    "# Нормировка обучающей выборки\n",
    "- LinearRegression\n",
    "  - normed train\n",
    "    mean MAE 1.3439019177\n",
    "  - not normed train\n",
    "    mean MAE 1.1931498474\n",
    "- MultinomialNB\n",
    "  - normed train\n",
    "    mean MAE 0.976856316297\n",
    "  - not normed train\n",
    "    mean MAE 1.13093131456\n",
    "- LogisticRegression\n",
    "  - normed train\n",
    "    mean MAE 0.93764228693\n",
    "  - not normed train\n",
    "    mean MAE 0.922247959518"
   ]
  },
  {
   "cell_type": "markdown",
   "metadata": {
    "slideshow": {
     "slide_type": "slide"
    }
   },
   "source": [
    "# Нормировка обучающей выборки\n",
    "<br/>\n",
    "<center><img src=\"images/normed2.png\", width=80%></center>"
   ]
  },
  {
   "cell_type": "markdown",
   "metadata": {
    "slideshow": {
     "slide_type": "slide"
    }
   },
   "source": [
    "# Результаты\n",
    "## Линейная регрессия\n",
    "\n",
    "- Ненормированная выборка\n",
    "    - Кросс-валидация:\n",
    "    `<MAE> = 1.21`\n",
    "    - На тестовых данных:\n",
    "    `MAE = 1.20`\n",
    "- Нормированная выборка\n",
    "    - Кросс-валидация:\n",
    "    `<MAE> = 1.29`\n",
    "    - На тестовых данных:\n",
    "    `MAE = 1.30`\n",
    "    "
   ]
  },
  {
   "cell_type": "markdown",
   "metadata": {
    "slideshow": {
     "slide_type": "slide"
    }
   },
   "source": [
    "# Самые весомые слова\n",
    "\n",
    " - ### Позитивные:\n",
    " hooked, perfect, favorite, best, superb, brilliant, excellent, amazing, rare, perfectly, incredible, awesome, masterpiece, intense, outstanding, hilarious, great, fantastic, greatest, wonderful, unique, notch, twists, beautifully, loved, fascinating\n",
    "\n",
    " - ### Негативные:\n",
    " worst, awful, waste, garbage, torture, crap, lacks,\n",
    "poorly, boring, avoid, terrible, overrated, fails, worse,\n",
    "disappointment, wasted, ridiculous, horrible, bland,\n",
    "disappointing, supposedly, laughable, nothing, whatsoever,\n",
    "thin, supposed, mess, sucks, unfortunately, sorry, badly,\n",
    "instead, substance, stupid, poor, nonsense, dull, painful,\n",
    "lame, bad, disappointed, shame\n",
    "\n"
   ]
  },
  {
   "cell_type": "markdown",
   "metadata": {
    "slideshow": {
     "slide_type": "slide"
    }
   },
   "source": [
    "## Multinomial Naive Bayes\n",
    "- Ненормированная выборка\n",
    "    - Кросс-валидация:\n",
    "    `<MAE> = 1.15`\n",
    "    - На тестовых данных:\n",
    "    `MAE = 1.16`\n",
    "- Нормированная выборка\n",
    "    - Кросс-валидация:\n",
    "    `<MAE> = 1.00`\n",
    "    - На тестовых данных:\n",
    "    `MAE = 1.02`\n",
    "    "
   ]
  },
  {
   "cell_type": "markdown",
   "metadata": {
    "collapsed": true,
    "slideshow": {
     "slide_type": "slide"
    }
   },
   "source": [
    "## Логистическая регрессия\n",
    "- Ненормированная выборка\n",
    "    - Кросс-валидация:\n",
    "    `<MAE> = 0.92`\n",
    "    - На тестовых данных:\n",
    "    `MAE = 0.94`\n",
    "- Нормированная выборка\n",
    "    - Кросс-валидация:\n",
    "    `<MAE> = 1.02`\n",
    "    - На тестовых данных:\n",
    "    `MAE = 1.03`\n",
    "    "
   ]
  },
  {
   "cell_type": "markdown",
   "metadata": {
    "slideshow": {
     "slide_type": "slide"
    }
   },
   "source": [
    "# Результаты на чисто тестовой выборке\n",
    "</br>\n",
    "</br>\n",
    "<center><img src=\"images/table1.png\", width=70%></center>"
   ]
  },
  {
   "cell_type": "markdown",
   "metadata": {
    "slideshow": {
     "slide_type": "slide"
    }
   },
   "source": [
    "# Распределение ошибки\n",
    "<br/>\n",
    "<center><img src=\"images/err.png\", width=40%></center>\n",
    "- более 50% - точное попадание\n",
    "- более 90% - ошибка не более трех"
   ]
  },
  {
   "cell_type": "markdown",
   "metadata": {
    "slideshow": {
     "slide_type": "slide"
    }
   },
   "source": [
    "# Спасибо за внимание!"
   ]
  }
 ],
 "metadata": {
  "celltoolbar": "Slideshow",
  "kernelspec": {
   "display_name": "Python 2",
   "language": "python",
   "name": "python2"
  },
  "language_info": {
   "codemirror_mode": {
    "name": "ipython",
    "version": 2
   },
   "file_extension": ".py",
   "mimetype": "text/x-python",
   "name": "python",
   "nbconvert_exporter": "python",
   "pygments_lexer": "ipython2",
   "version": "2.7.14"
  },
  "toc": {
   "nav_menu": {},
   "number_sections": false,
   "sideBar": true,
   "skip_h1_title": false,
   "toc_cell": false,
   "toc_position": {},
   "toc_section_display": "block",
   "toc_window_display": false
  },
  "varInspector": {
   "cols": {
    "lenName": 16,
    "lenType": 16,
    "lenVar": 40
   },
   "kernels_config": {
    "python": {
     "delete_cmd_postfix": "",
     "delete_cmd_prefix": "del ",
     "library": "var_list.py",
     "varRefreshCmd": "print(var_dic_list())"
    },
    "r": {
     "delete_cmd_postfix": ") ",
     "delete_cmd_prefix": "rm(",
     "library": "var_list.r",
     "varRefreshCmd": "cat(var_dic_list()) "
    }
   },
   "types_to_exclude": [
    "module",
    "function",
    "builtin_function_or_method",
    "instance",
    "_Feature"
   ],
   "window_display": false
  }
 },
 "nbformat": 4,
 "nbformat_minor": 2
}
