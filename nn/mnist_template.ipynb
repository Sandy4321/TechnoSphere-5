{
 "cells": [
  {
   "cell_type": "markdown",
   "metadata": {},
   "source": [
    "## Семинар 3 \"Определение ключевых точек лица\""
   ]
  },
  {
   "cell_type": "markdown",
   "metadata": {},
   "source": [
    "# Подготовительная задача 1"
   ]
  },
  {
   "cell_type": "markdown",
   "metadata": {},
   "source": [
    "Сделать из линейной регрессии nn.sequental двухслойную сеть"
   ]
  },
  {
   "cell_type": "code",
   "execution_count": 398,
   "metadata": {
    "collapsed": true
   },
   "outputs": [],
   "source": [
    "import matplotlib.pyplot as plt\n",
    "from torch.utils.data import DataLoader\n",
    "from torchvision.datasets import MNIST\n",
    "from torchvision import transforms\n",
    "import numpy as np\n",
    "import sys\n",
    "#from layers import Linear, Sigmoid, NLLLoss, NeuralNetwork # Results from Seminar 1\n",
    "%matplotlib inline\n",
    "import torchsample as ts\n",
    "import time\n",
    "import torch"
   ]
  },
  {
   "cell_type": "code",
   "execution_count": 399,
   "metadata": {
    "collapsed": true
   },
   "outputs": [],
   "source": [
    "from sklearn.metrics import accuracy_score\n",
    "from torch.autograd import Variable"
   ]
  },
  {
   "cell_type": "markdown",
   "metadata": {},
   "source": [
    "# Подготовительная задача 2"
   ]
  },
  {
   "cell_type": "markdown",
   "metadata": {},
   "source": [
    "Используя структуру сети Sequental в pytorch реализовать и обучить классификатор цифр из MNIST\n",
    "(повторить первый и второй пункты из прошлого задания )"
   ]
  },
  {
   "cell_type": "code",
   "execution_count": 8,
   "metadata": {
    "collapsed": true
   },
   "outputs": [],
   "source": [
    "transform = transforms.Compose([\n",
    "                       transforms.ToTensor(),\n",
    "                       transforms.Normalize((0.1307,), (0.3081,))\n",
    "                    ])\n",
    "train_dataset = MNIST('.', train=True, download=True, transform=transform)\n",
    "test_dataset = MNIST('.', train=False, transform=transform)\n",
    "\n",
    "train_loader = DataLoader(train_dataset, batch_size=32, shuffle=True)\n",
    "test_loader = DataLoader(test_dataset, batch_size=32, shuffle=True)"
   ]
  },
  {
   "cell_type": "code",
   "execution_count": 9,
   "metadata": {
    "collapsed": true
   },
   "outputs": [],
   "source": [
    "# функция augm немного искажает и поворачивает изображения\n",
    "\n",
    "def augm(X, angle_range=20, shear_range=10):\n",
    "\n",
    "    for i in range(X.shape[0]):\n",
    "        angle = (np.random.rand(1)[0]-0.5)*angle_range*2\n",
    "        shear = (np.random.rand(1)[0]-0.5)*shear_range*2\n",
    "\n",
    "        a1 = ts.transforms.Rotate(angle)(X[i])\n",
    "        X[i] = ts.transforms.Shear(shear)(a1)\n",
    "    return X"
   ]
  },
  {
   "cell_type": "code",
   "execution_count": 10,
   "metadata": {
    "collapsed": true
   },
   "outputs": [],
   "source": [
    "model = torch.nn.Sequential(\n",
    "            torch.nn.Linear(784, 100),   \n",
    "            torch.nn.ReLU(),\n",
    "            torch.nn.Linear(100, 100),\n",
    "            torch.nn.ReLU(),\n",
    "            torch.nn.Linear(100, 10),\n",
    "        )"
   ]
  },
  {
   "cell_type": "code",
   "execution_count": 11,
   "metadata": {
    "collapsed": true
   },
   "outputs": [],
   "source": [
    "# epochs = 10\n",
    "# aug = False\n",
    "\n",
    "\n",
    "def train(network, epochs, learning_rate, aug=False):\n",
    "\n",
    "    train_loss_epochs = []\n",
    "    test_loss_epochs = []\n",
    "    train_accuracy_epochs = []\n",
    "    test_accuracy_epochs = []\n",
    "\n",
    "    try:\n",
    "        for epoch in range(epochs):\n",
    "            losses = []\n",
    "            accuracies = []\n",
    "            loss_fn = torch.nn.functional.nll_loss\n",
    "            #optimizer =  torch.optim.SGD(network.parameters(), lr=learning_rate)\n",
    "            optimizer =  torch.optim.Adam(network.parameters(), lr=learning_rate)\n",
    "\n",
    "            for X, y in train_loader:\n",
    "\n",
    "                if aug:\n",
    "                    X = augm(X)\n",
    "\n",
    "\n",
    "                X = torch.autograd.Variable(X)\n",
    "                y = torch.autograd.Variable(y)\n",
    "                X = X.view(X.shape[0], -1)\n",
    "\n",
    "\n",
    "                y_pred = torch.nn.functional.log_softmax( network(X) )\n",
    "                prediction = y_pred.data.numpy()\n",
    "\n",
    "                optimizer.zero_grad()\n",
    "\n",
    "                loss = loss_fn(y_pred, y)\n",
    "                loss.backward()\n",
    "\n",
    "                optimizer.step()\n",
    "\n",
    "                loss_batch = float(loss.data)\n",
    "                losses.append(loss_batch)\n",
    "                accuracies.append((np.argmax(prediction, 1)==y.data.numpy()).mean())\n",
    "\n",
    "            train_loss_epochs.append(np.mean(losses))\n",
    "            train_accuracy_epochs.append(np.mean(accuracies))\n",
    "            losses = []\n",
    "            accuracies = []\n",
    "\n",
    "            for X, y in test_loader:\n",
    "                X = X.view(X.shape[0], -1)\n",
    "\n",
    "                y = torch.autograd.Variable(y)\n",
    "                X = torch.autograd.Variable(X)\n",
    "\n",
    "                y_pred = torch.nn.functional.log_softmax( network(X) )\n",
    "                prediction = y_pred.data.numpy()\n",
    "\n",
    "                loss = loss_fn(y_pred, y)\n",
    "                loss_batch = float(loss.data)\n",
    "\n",
    "                losses.append(loss_batch)\n",
    "                accuracies.append((np.argmax(prediction, 1)==y.data.numpy()).mean())\n",
    "\n",
    "            test_loss_epochs.append(np.mean(losses))\n",
    "            test_accuracy_epochs.append(np.mean(accuracies))\n",
    "            sys.stdout.write('\\rEpoch {0}... (Train/Test) NLL: {1:.5f}/{2:.5f}\\tAccuracy: {3:.5f}/{4:.5f}'.format(\n",
    "                        epoch, train_loss_epochs[-1], test_loss_epochs[-1],\n",
    "                        train_accuracy_epochs[-1], test_accuracy_epochs[-1]))\n",
    "\n",
    "    except KeyboardInterrupt:\n",
    "        pass\n",
    "\n",
    "    plt.figure(figsize=(12, 5))\n",
    "    plt.subplot(1, 2, 1)\n",
    "    plt.plot(train_loss_epochs, label='Train')\n",
    "    plt.plot(test_loss_epochs, label='Test')\n",
    "    plt.xlabel('Epochs', fontsize=16)\n",
    "    plt.ylabel('Loss', fontsize=16)\n",
    "    plt.legend(loc=0, fontsize=16)\n",
    "    plt.grid('on')\n",
    "    plt.subplot(1, 2, 2)\n",
    "    plt.plot(train_accuracy_epochs, label='Train accuracy')\n",
    "    plt.plot(test_accuracy_epochs, label='Test accuracy')\n",
    "    plt.xlabel('Epochs', fontsize=16)\n",
    "    plt.ylabel('Loss', fontsize=16)\n",
    "    plt.legend(loc=0, fontsize=16)\n",
    "    plt.grid('on')\n",
    "    plt.show()"
   ]
  },
  {
   "cell_type": "code",
   "execution_count": 12,
   "metadata": {},
   "outputs": [
    {
     "name": "stderr",
     "output_type": "stream",
     "text": [
      "/Users/evgeny/anaconda3/lib/python3.6/site-packages/ipykernel/__main__.py:31: UserWarning: Implicit dimension choice for log_softmax has been deprecated. Change the call to include dim=X as an argument.\n",
      "/Users/evgeny/anaconda3/lib/python3.6/site-packages/ipykernel/__main__.py:56: UserWarning: Implicit dimension choice for log_softmax has been deprecated. Change the call to include dim=X as an argument.\n"
     ]
    },
    {
     "name": "stdout",
     "output_type": "stream",
     "text": [
      "Epoch 5... (Train/Test) NLL: 0.33441/0.26363\tAccuracy: 0.92128/0.93620"
     ]
    },
    {
     "data": {
      "image/png": "[encoded data removed]",
      "text/plain": [
       "<matplotlib.figure.Figure at 0x1a1e230d30>"
      ]
     },
     "metadata": {},
     "output_type": "display_data"
    }
   ],
   "source": [
    "train(model, epochs=10, learning_rate=0.01, aug=True)"
   ]
  }
 ],
 "metadata": {
  "kernelspec": {
   "display_name": "Python [conda env:anaconda3]",
   "language": "python",
   "name": "conda-env-anaconda3-py"
  },
  "language_info": {
   "codemirror_mode": {
    "name": "ipython",
    "version": 3
   },
   "file_extension": ".py",
   "mimetype": "text/x-python",
   "name": "python",
   "nbconvert_exporter": "python",
   "pygments_lexer": "ipython3",
   "version": "3.6.3"
  }
 },
 "nbformat": 4,
 "nbformat_minor": 1
}
