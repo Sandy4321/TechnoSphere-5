{
 "cells": [
  {
   "cell_type": "code",
   "execution_count": 1,
   "metadata": {
    "collapsed": true
   },
   "outputs": [],
   "source": [
    "import torch\n",
    "import torch.nn as nn\n",
    "import torch.nn.functional as F\n",
    "import torch.optim as optim\n",
    "from torch.autograd import Variable\n",
    "from torch import Tensor, FloatTensor, ByteTensor\n",
    "import os\n",
    "import sys\n",
    "import random\n",
    "import warnings\n",
    "from torch.utils.data import Dataset, DataLoader\n",
    "from torch.nn import init\n",
    "import numpy as np\n",
    "import pandas as pd\n",
    "\n",
    "import matplotlib.pyplot as plt\n",
    "\n",
    "from tqdm import tqdm\n",
    "from itertools import chain\n",
    "from skimage.io import imread, imshow, imread_collection, concatenate_images\n",
    "from skimage.transform import resize, rotate\n",
    "from skimage.morphology import label\n",
    "import time\n",
    "\n",
    "from sklearn.model_selection import train_test_split\n",
    "from model import UNet\n",
    "from scipy.signal import convolve\n"
   ]
  },
  {
   "cell_type": "code",
   "execution_count": 272,
   "metadata": {
    "code_folding": [],
    "collapsed": true
   },
   "outputs": [],
   "source": [
    "class ToTensor(object):\n",
    "    \"\"\"Convert ndarrays in sample to Tensors.\"\"\"\n",
    "\n",
    "    def __call__(self, sample):\n",
    "        image, masks = sample['image'], sample['mask']\n",
    "        return {'image': torch.from_numpy(image),\n",
    "                'mask': torch.from_numpy(masks),\n",
    "                'size': sample['size'],\n",
    "                'id' : sample['id']}\n",
    "\n",
    "RESHAPE_SIZE = 256\n",
    "class ImageDataSet(Dataset):\n",
    "    def __init__(self, PATH, mask=False, transform=None, mode='full', specify_index=None):\n",
    "        \n",
    "        \n",
    "        self.PATH = PATH\n",
    "        self.ids = next(os.walk(self.PATH))[1]\n",
    "        \n",
    "        if specify_index == None:\n",
    "            self.len = len(self.ids)\n",
    "            self.index = range(self.len)\n",
    "            \n",
    "        else:\n",
    "            self.len = len(specify_index)\n",
    "            self.index = specify_index\n",
    "            \n",
    "        \n",
    "        self.mask = mask\n",
    "        self.transform = transform\n",
    "        self.mode = mode\n",
    "        self.Image = np.zeros((self.len, RESHAPE_SIZE, RESHAPE_SIZE))\n",
    "        self.Mask = []\n",
    "        self.OrigSize = np.zeros((self.len, 2))\n",
    "        self.ID = np.zeros(self.len, dtype='object')\n",
    "        \n",
    "        \n",
    "        for idx in tqdm(range(self.len)):\n",
    "            \n",
    "            id_ = self.ids[idx]\n",
    "            img = imread(self.PATH + id_ + '/images/' + id_ + '.png')\n",
    "            self.OrigSize[idx] = img.shape[:2]\n",
    "            img = resize(img, (RESHAPE_SIZE, RESHAPE_SIZE), mode='constant', preserve_range=True)[:,:,0]\n",
    "            self.Image[idx]  = img\n",
    "            self.ID[idx] = id_\n",
    "            if self.mask:\n",
    "                masks = []\n",
    "                self.mask_ids = next(os.walk(self.PATH + '/' + id_ + '/masks/'))[2]\n",
    "\n",
    "                for m_id in self.mask_ids:\n",
    "\n",
    "                    img = imread(self.PATH + id_ + '/masks/' + m_id )\n",
    "                    img = (resize(img, (RESHAPE_SIZE, RESHAPE_SIZE), mode='constant', preserve_range=True)).astype(bool)\n",
    "                    masks.append(img)\n",
    "\n",
    "                self.Mask.append(masks)\n",
    "#                 if self.mode == 'full':\n",
    "#                     self.Mask[idx] = np.array(masks).sum(0).astype(bool).astype(int)\n",
    "                    \n",
    "            else:\n",
    "                self.Mask.append(np.zeros((RESHAPE_SIZE, RESHAPE_SIZE)))\n",
    "        \n",
    "    def __len__(self):\n",
    "        return self.len\n",
    "    \n",
    "    \n",
    "    def __getitem__(self, idx):\n",
    "        \n",
    "        sample = {}\n",
    "        \n",
    "        sample['size'] = self.OrigSize[idx]\n",
    "        sample['id'] = self.ID[idx]\n",
    "        \n",
    "        if self.mode == 'full':\n",
    "            image = self.Image[idx]\n",
    "            mask = np.array(self.Mask[idx]).sum(0).astype(bool).astype(int)\n",
    "            \n",
    "\n",
    "            \n",
    "        elif self.mode == 'aug':\n",
    "            img = self.Image[idx]\n",
    "            #create new mask\n",
    "            mask = np.array(list(filter(lambda x: np.random.rand(1) > 0.5, self.Mask[idx]))).sum(0).astype(bool).astype(int)\n",
    "            #smooth outlines to mask image\n",
    "            ker = np.array([[0.1,0.3,0.1],[0.3,1,0.3],[0.1,0.3,0.1]])[:,:,None]\n",
    "            mask_outline = convolve(mask[:,:,None].astype(int), ker, mode='same').squeeze()\n",
    "            mask_outline = (mask_outline > 1) + mask_outline * (mask_outline <1)\n",
    "            new_image = self.Image[idx] * mask_outline\n",
    "            #pack it\n",
    "            sample['mask'] = mask\n",
    "            sample['image'] = new_image\n",
    "        \n",
    "        elif self.mode == 'aug2':\n",
    "            \n",
    "            image = self.Image[idx]\n",
    "            mask = np.array(self.Mask[idx]).sum(0).astype(bool).astype(int)\n",
    "            \n",
    "            flip = np.random.rand() > 0.5\n",
    "            rot = np.random.randint(0,3)  \n",
    "            \n",
    "            if flip:\n",
    "                image = np.flip(image, 1).copy()\n",
    "                mask = np.flip(mask, 1).copy()\n",
    "            \n",
    "            image = np.rot90(image, k=rot).copy()\n",
    "            mask = np.rot90(mask, k=rot).copy()\n",
    "\n",
    "\n",
    "        sample['image'] = image          \n",
    "        sample['mask'] = mask\n",
    "\n",
    "        if self.transform:\n",
    "            sample = self.transform(sample)\n",
    "            \n",
    "            \n",
    "        return sample\n",
    "    \n",
    "    def foo(self, idx):\n",
    "        sample = {}\n",
    "        sample['image'] = self.Image[idx]\n",
    "        sample['mask'] = np.array(self.Mask[idx]).sum(0).astype(bool).astype(int)\n",
    "        return sample"
   ]
  },
  {
   "cell_type": "code",
   "execution_count": 273,
   "metadata": {
    "code_folding": [],
    "collapsed": true
   },
   "outputs": [],
   "source": [
    "def save_checkpoint(model, filename='checkpoint.pth.tar'):\n",
    "    torch.save(model.state_dict(), filename)\n",
    "\n",
    "def load_checkpoint(model, filename='checkpoint.pth.tar'):\n",
    "    model.load_state_dict( torch.load(filename) )\n"
   ]
  },
  {
   "cell_type": "code",
   "execution_count": 342,
   "metadata": {
    "collapsed": true
   },
   "outputs": [],
   "source": [
    "train_idx, control_idx = train_test_split(range(670), test_size=0.1 )"
   ]
  },
  {
   "cell_type": "code",
   "execution_count": 344,
   "metadata": {},
   "outputs": [
    {
     "name": "stderr",
     "output_type": "stream",
     "text": [
      "100%|██████████| 670/670 [01:54<00:00,  5.86it/s]\n",
      "100%|██████████| 65/65 [00:01<00:00, 58.80it/s]\n"
     ]
    }
   ],
   "source": [
    "\n",
    "train_dataset = ImageDataSet(PATH='./data/stage1_train/',\n",
    "                            specify_index=None,\n",
    "                            mask=True,\n",
    "                            mode='full',\n",
    "                            transform = ToTensor() )\n",
    "\n",
    "# control_dataset = ImageDataSet(PATH='./data/stage1_train/',\n",
    "#                             specify_index=control_idx,\n",
    "#                             mode='full',\n",
    "#                             mask=True,\n",
    "#                             transform = ToTensor() )\n",
    "\n",
    "\n",
    "test_dataset = ImageDataSet(PATH='./data/stage1_test/',\n",
    "                            specify_index=None,\n",
    "                            mask=False,\n",
    "                            transform=ToTensor() )\n"
   ]
  },
  {
   "cell_type": "code",
   "execution_count": 345,
   "metadata": {
    "collapsed": true
   },
   "outputs": [],
   "source": [
    "train_dataloader = DataLoader(train_dataset, batch_size=8,\n",
    "                        shuffle=True, num_workers=4)\n",
    "\n",
    "\n",
    "# control_dataloader = DataLoader(control_dataset, batch_size=8,\n",
    "#                         shuffle=True, num_workers=4)\n",
    "\n",
    "test_dataloader = DataLoader(test_dataset, batch_size=8,\n",
    "                        shuffle=False, num_workers=4)"
   ]
  },
  {
   "cell_type": "code",
   "execution_count": null,
   "metadata": {
    "collapsed": true
   },
   "outputs": [],
   "source": []
  },
  {
   "cell_type": "code",
   "execution_count": 346,
   "metadata": {
    "code_folding": [],
    "collapsed": true
   },
   "outputs": [],
   "source": [
    "dtype=torch.FloatTensor\n",
    "\n",
    "def train(network, epochs, learning_rate, loss=torch.nn.CrossEntropyLoss(), optim=torch.optim.Adam):\n",
    "    train_loss_epochs = []\n",
    "    test_loss_epochs = []\n",
    "    optimizer = optim(network.parameters(), lr=learning_rate)\n",
    "    try:\n",
    "        for epoch in range(epochs):\n",
    "            losses = []\n",
    "            accuracies = []\n",
    "            for sample in train_dataloader:\n",
    "                \n",
    "                X = sample['image']\n",
    "                X = Variable(X).type(dtype)[:,None]\n",
    "                y = sample['mask']\n",
    "                y = Variable(y).type(torch.LongTensor)\n",
    "                \n",
    "                if use_cuda:\n",
    "                    X, y = X.cuda(), y.cuda()\n",
    "                \n",
    "                prediction = network(X)\n",
    "                #print ('pred:', prediction.shape)\n",
    "                #print ('y', y.shape)\n",
    "                loss_batch = loss(prediction, y)\n",
    "                losses.append(loss_batch.data[0])\n",
    "                optimizer.zero_grad()\n",
    "                loss_batch.backward()\n",
    "                optimizer.step()\n",
    "  \n",
    "            train_loss_epochs.append(np.mean(losses))\n",
    "            losses = []    \n",
    "            for sample in control_dataloader:\n",
    "                X = sample['image'].cuda()\n",
    "                X = Variable(X).type(dtype)[:,None]\n",
    "                y = sample['mask'].cuda()\n",
    "                y = Variable(y).type(torch.LongTensor)\n",
    "                \n",
    "                if use_cuda:\n",
    "                    X, y = X.cuda(), y.cuda()\n",
    "                \n",
    "                prediction = network(X)\n",
    "                loss_batch = loss(prediction, y)\n",
    "                losses.append(loss_batch.data[0])\n",
    "                \n",
    "            test_loss_epochs.append(np.mean(losses))\n",
    "            sys.stdout.write('\\rEpoch {0}... (Train/Control) Loss: {1:.3f}/{2:.3f}'.format(\n",
    "                        epoch, train_loss_epochs[-1], test_loss_epochs[-1]))\n",
    "        \n",
    "\n",
    "    except KeyboardInterrupt:\n",
    "        pass\n",
    "    \n",
    "    best_test = min(test_loss_epochs[1:])\n",
    "    best_train = min(train_loss_epochs[1:])\n",
    "    \n",
    "  \n",
    "    \n",
    "    plt.figure(figsize=(12, 5))\n",
    "    plt.plot(train_loss_epochs[1:], label='Train')\n",
    "    plt.plot(test_loss_epochs[1:], label='Test')\n",
    "    plt.xlabel('Epochs', fontsize=16)\n",
    "    plt.ylabel('Loss', fontsize=16)\n",
    "    plt.legend(loc=0, fontsize=16)\n",
    "    plt.grid('on')\n",
    "    plt.show()"
   ]
  },
  {
   "cell_type": "code",
   "execution_count": 347,
   "metadata": {
    "collapsed": true
   },
   "outputs": [],
   "source": [
    "use_cuda = torch.cuda.is_available() \n",
    "if use_cuda:\n",
    "    torch.cuda.manual_seed(42)\n",
    "    torch.cuda.set_device(1)"
   ]
  },
  {
   "cell_type": "code",
   "execution_count": 348,
   "metadata": {},
   "outputs": [
    {
     "data": {
      "text/plain": [
       "True"
      ]
     },
     "execution_count": 348,
     "metadata": {},
     "output_type": "execute_result"
    }
   ],
   "source": [
    "use_cuda"
   ]
  },
  {
   "cell_type": "code",
   "execution_count": 349,
   "metadata": {
    "collapsed": true
   },
   "outputs": [],
   "source": [
    "#https://github.com/jaxony/unet-pytorch\n",
    "model = UNet(num_classes=2, in_channels=1, depth=5)\n",
    "if use_cuda:\n",
    "    model = model.cuda()"
   ]
  },
  {
   "cell_type": "markdown",
   "metadata": {},
   "source": [
    "Запускал train много раз"
   ]
  },
  {
   "cell_type": "code",
   "execution_count": 366,
   "metadata": {},
   "outputs": [
    {
     "name": "stdout",
     "output_type": "stream",
     "text": [
      "Epoch 9... (Train/Control) Loss: 0.093/0.102"
     ]
    },
    {
     "data": {
      "image/png": "[encoded data removed]",
      "text/plain": [
       "<matplotlib.figure.Figure at 0x7f0598bf89e8>"
      ]
     },
     "metadata": {},
     "output_type": "display_data"
    }
   ],
   "source": [
    "train(model, 10, learning_rate=0.000001)"
   ]
  },
  {
   "cell_type": "code",
   "execution_count": 367,
   "metadata": {
    "collapsed": true
   },
   "outputs": [],
   "source": [
    "save_checkpoint(model, 'chp2.pth.tar')"
   ]
  },
  {
   "cell_type": "code",
   "execution_count": 293,
   "metadata": {
    "collapsed": true
   },
   "outputs": [],
   "source": [
    "load_checkpoint(model,'chp2.pth.tar')"
   ]
  },
  {
   "cell_type": "markdown",
   "metadata": {},
   "source": [
    "## Find best cutoff"
   ]
  },
  {
   "cell_type": "code",
   "execution_count": 368,
   "metadata": {
    "collapsed": true
   },
   "outputs": [],
   "source": [
    "def iou(pred, y, cutoff=0.5):\n",
    "    pred = pred.data.cpu().numpy() > cutoff\n",
    "    y = y.data.cpu().numpy()\n",
    "\n",
    "    \n",
    "#     plt.imshow(y)\n",
    "#     plt.show()\n",
    "#     plt.imshow(pred)\n",
    "#     plt.show()\n",
    "\n",
    "    return (pred * y).sum() / (pred | y).sum()"
   ]
  },
  {
   "cell_type": "code",
   "execution_count": 369,
   "metadata": {
    "collapsed": true
   },
   "outputs": [],
   "source": [
    "sm = torch.nn.Softmax(dim=1)\n",
    "S = np.linspace(0,1,101)\n",
    "losses_n = []\n",
    "\n",
    "for sample in train_dataloader:\n",
    "    X = sample['image'].cuda()\n",
    "    X = Variable(X).type(dtype)[:,None]\n",
    "    y = sample['mask'].cuda()\n",
    "    y = Variable(y).type(torch.LongTensor)\n",
    "\n",
    "    if use_cuda:\n",
    "        X, y = X.cuda(), y.cuda()\n",
    "\n",
    "    prediction = model(X)\n",
    "    pred = sm(prediction)[:,1]\n",
    "    \n",
    "    for n in range(pred.shape[0]):\n",
    "        j = []\n",
    "        for s in S:\n",
    "            j.append(iou(pred[n], y[n], s))\n",
    "        losses_n.append(j)\n"
   ]
  },
  {
   "cell_type": "code",
   "execution_count": 370,
   "metadata": {},
   "outputs": [
    {
     "data": {
      "image/png": "[encoded data removed]",
      "text/plain": [
       "<matplotlib.figure.Figure at 0x7f05eb0f1a58>"
      ]
     },
     "metadata": {},
     "output_type": "display_data"
    }
   ],
   "source": [
    "losses = np.array(losses_n).mean(0)\n",
    "plt.plot(S, losses)\n",
    "plt.show()"
   ]
  },
  {
   "cell_type": "code",
   "execution_count": 371,
   "metadata": {},
   "outputs": [
    {
     "data": {
      "text/plain": [
       "0.42"
      ]
     },
     "execution_count": 371,
     "metadata": {},
     "output_type": "execute_result"
    }
   ],
   "source": [
    "S[losses.argmax()]"
   ]
  },
  {
   "cell_type": "code",
   "execution_count": 375,
   "metadata": {
    "collapsed": true
   },
   "outputs": [],
   "source": [
    "n = 4\n",
    "\n",
    "sample = next(iter(test_dataloader))\n",
    "X = Variable((sample['image']).type(torch.FloatTensor))[:,None]\n",
    "y = sample['mask'].numpy()\n",
    "\n",
    "if use_cuda:\n",
    "    X = X.cuda()\n",
    "    \n",
    "y_pred = model(X)\n",
    "sm = nn.Softmax(dim=1)\n",
    "pred = sm(y_pred).data.cpu().numpy()[:,1]\n",
    "\n",
    "# plt.imshow(X[n,0].data.cpu().numpy(), cmap='gray')\n",
    "# plt.show()\n",
    "# plt.imshow(pred[n]>0.45, cmap='gray')\n",
    "# plt.show()"
   ]
  },
  {
   "cell_type": "markdown",
   "metadata": {},
   "source": [
    "## Submision"
   ]
  },
  {
   "cell_type": "code",
   "execution_count": 376,
   "metadata": {
    "collapsed": true
   },
   "outputs": [],
   "source": [
    "preds_test_upsampled = []\n",
    "test_ids = []\n",
    "\n",
    "sm = torch.nn.Softmax(dim=1)\n",
    "for sample in test_dataloader:\n",
    "\n",
    "    ID = sample['id']\n",
    "    SIZE = sample['size'].numpy()\n",
    "    X = Variable((sample['image']).type(torch.FloatTensor))[:,None]\n",
    "    if use_cuda:\n",
    "        X = X.cuda()\n",
    "    y_pred = model(X)\n",
    "    preds_test = sm(y_pred).data.cpu().numpy()[:,1]\n",
    "    \n",
    "    #prediction unsample\n",
    "    for i in range(preds_test.shape[0]):\n",
    "        preds_test_upsampled.append(   resize(preds_test[i], \n",
    "                                           (SIZE[i][0], SIZE[i][1]),\n",
    "                                           mode='constant', preserve_range=True))\n",
    "    test_ids.extend(ID)"
   ]
  },
  {
   "cell_type": "code",
   "execution_count": 377,
   "metadata": {
    "collapsed": true
   },
   "outputs": [],
   "source": [
    "# Run-length encoding stolen from https://www.kaggle.com/rakhlin/fast-run-length-encoding-python\n",
    "def rle_encoding(x):\n",
    "    dots = np.where(x.T.flatten() == 1)[0]\n",
    "    run_lengths = []\n",
    "    prev = -2\n",
    "    for b in dots:\n",
    "        if (b>prev+1): run_lengths.extend((b + 1, 0))\n",
    "        run_lengths[-1] += 1\n",
    "        prev = b\n",
    "    return run_lengths\n",
    "\n",
    "def prob_to_rles(x, cutoff=0.5):\n",
    "    lab_img = label(x > cutoff)\n",
    "    for i in range(1, lab_img.max() + 1):\n",
    "        yield rle_encoding(lab_img == i)\n",
    "\n",
    "\n",
    "new_test_ids = []\n",
    "rles = []\n",
    "for n, id_ in enumerate(test_ids):\n",
    "    rle = list(prob_to_rles(preds_test_upsampled[n], 0.5))\n",
    "    rles.extend(rle)\n",
    "    new_test_ids.extend([id_] * len(rle))"
   ]
  },
  {
   "cell_type": "code",
   "execution_count": 378,
   "metadata": {
    "collapsed": true
   },
   "outputs": [],
   "source": [
    "# Create submission DataFrame\n",
    "sub = pd.DataFrame()\n",
    "sub['ImageId'] = new_test_ids\n",
    "sub['EncodedPixels'] = pd.Series(rles).apply(lambda x: ' '.join(str(y) for y in x))\n",
    "sub.to_csv('sub-dsbowl2018.csv', index=False)\n"
   ]
  },
  {
   "cell_type": "code",
   "execution_count": 379,
   "metadata": {
    "collapsed": true
   },
   "outputs": [],
   "source": [
    "input_path = './data/stage1_test/'\n",
    "masks = [f for f in os.listdir(input_path) if f.endswith('_mask.tif')]\n"
   ]
  },
  {
   "cell_type": "code",
   "execution_count": 380,
   "metadata": {},
   "outputs": [
    {
     "data": {
      "text/html": [
       "<div>\n",
       "<style scoped>\n",
       "    .dataframe tbody tr th:only-of-type {\n",
       "        vertical-align: middle;\n",
       "    }\n",
       "\n",
       "    .dataframe tbody tr th {\n",
       "        vertical-align: top;\n",
       "    }\n",
       "\n",
       "    .dataframe thead th {\n",
       "        text-align: right;\n",
       "    }\n",
       "</style>\n",
       "<table border=\"1\" class=\"dataframe\">\n",
       "  <thead>\n",
       "    <tr style=\"text-align: right;\">\n",
       "      <th></th>\n",
       "      <th>ImageId</th>\n",
       "      <th>EncodedPixels</th>\n",
       "    </tr>\n",
       "  </thead>\n",
       "  <tbody>\n",
       "    <tr>\n",
       "      <th>0</th>\n",
       "      <td>1cdbfee1951356e7b0a215073828695fe1ead5f8b1add1...</td>\n",
       "      <td>74755 3 75267 5 75779 7 76290 9 76802 9 77314 ...</td>\n",
       "    </tr>\n",
       "    <tr>\n",
       "      <th>1</th>\n",
       "      <td>1cdbfee1951356e7b0a215073828695fe1ead5f8b1add1...</td>\n",
       "      <td>168454 2 168965 4 169476 5 169987 7 170499 7 1...</td>\n",
       "    </tr>\n",
       "    <tr>\n",
       "      <th>2</th>\n",
       "      <td>1cdbfee1951356e7b0a215073828695fe1ead5f8b1add1...</td>\n",
       "      <td>162308 2 162819 4 163331 4 163844 2</td>\n",
       "    </tr>\n",
       "    <tr>\n",
       "      <th>3</th>\n",
       "      <td>1cdbfee1951356e7b0a215073828695fe1ead5f8b1add1...</td>\n",
       "      <td>126995 2</td>\n",
       "    </tr>\n",
       "    <tr>\n",
       "      <th>4</th>\n",
       "      <td>1cdbfee1951356e7b0a215073828695fe1ead5f8b1add1...</td>\n",
       "      <td>41 5 550 56 1062 58 1573 60 2085 60 2596 63 31...</td>\n",
       "    </tr>\n",
       "  </tbody>\n",
       "</table>\n",
       "</div>"
      ],
      "text/plain": [
       "                                             ImageId  \\\n",
       "0  1cdbfee1951356e7b0a215073828695fe1ead5f8b1add1...   \n",
       "1  1cdbfee1951356e7b0a215073828695fe1ead5f8b1add1...   \n",
       "2  1cdbfee1951356e7b0a215073828695fe1ead5f8b1add1...   \n",
       "3  1cdbfee1951356e7b0a215073828695fe1ead5f8b1add1...   \n",
       "4  1cdbfee1951356e7b0a215073828695fe1ead5f8b1add1...   \n",
       "\n",
       "                                       EncodedPixels  \n",
       "0  74755 3 75267 5 75779 7 76290 9 76802 9 77314 ...  \n",
       "1  168454 2 168965 4 169476 5 169987 7 170499 7 1...  \n",
       "2                162308 2 162819 4 163331 4 163844 2  \n",
       "3                                           126995 2  \n",
       "4  41 5 550 56 1062 58 1573 60 2085 60 2596 63 31...  "
      ]
     },
     "execution_count": 380,
     "metadata": {},
     "output_type": "execute_result"
    }
   ],
   "source": [
    "sub.head()"
   ]
  },
  {
   "cell_type": "code",
   "execution_count": null,
   "metadata": {
    "collapsed": true
   },
   "outputs": [],
   "source": []
  }
 ],
 "metadata": {
  "kernelspec": {
   "display_name": "Python [default]",
   "language": "python",
   "name": "python3"
  },
  "language_info": {
   "codemirror_mode": {
    "name": "ipython",
    "version": 3
   },
   "file_extension": ".py",
   "mimetype": "text/x-python",
   "name": "python",
   "nbconvert_exporter": "python",
   "pygments_lexer": "ipython3",
   "version": "3.6.3"
  }
 },
 "nbformat": 4,
 "nbformat_minor": 2
}
